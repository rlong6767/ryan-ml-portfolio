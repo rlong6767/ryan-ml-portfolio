{
  "nbformat": 4,
  "nbformat_minor": 0,
  "metadata": {
    "colab": {
      "provenance": [],
      "authorship_tag": "ABX9TyPGs0ehHbv3vVALXME7cVeL",
      "include_colab_link": true
    },
    "kernelspec": {
      "name": "python3",
      "display_name": "Python 3"
    },
    "language_info": {
      "name": "python"
    }
  },
  "cells": [
    {
      "cell_type": "markdown",
      "metadata": {
        "id": "view-in-github",
        "colab_type": "text"
      },
      "source": [
        "<a href=\"https://colab.research.google.com/github/rlong6767/ryan-ml-portfolio/blob/main/customer-churn/notebooks/Churn_prepocessing.ipynb\" target=\"_parent\"><img src=\"https://colab.research.google.com/assets/colab-badge.svg\" alt=\"Open In Colab\"/></a>"
      ]
    },
    {
      "cell_type": "code",
      "execution_count": 52,
      "metadata": {
        "colab": {
          "base_uri": "https://localhost:8080/"
        },
        "id": "H-nRIcjkArmE",
        "outputId": "9b17ac76-d70c-4a7a-c750-37413846bdc2"
      },
      "outputs": [
        {
          "output_type": "stream",
          "name": "stdout",
          "text": [
            "Path to dataset files: /kaggle/input/telco-customer-churn\n"
          ]
        }
      ],
      "source": [
        "import kagglehub\n",
        "\n",
        "# Download latest version\n",
        "path = kagglehub.dataset_download(\"blastchar/telco-customer-churn\")\n",
        "\n",
        "print(\"Path to dataset files:\", path)"
      ]
    },
    {
      "cell_type": "code",
      "source": [
        "import pandas as pd\n",
        "import os\n",
        "\n",
        "df = pd.read_csv(os.path.join(path, \"WA_Fn-UseC_-Telco-Customer-Churn.csv\"))"
      ],
      "metadata": {
        "id": "HcWG75FOBUjl"
      },
      "execution_count": 53,
      "outputs": []
    },
    {
      "cell_type": "code",
      "source": [
        "# Show info about the DataFrame (column types, non-null counts)\n",
        "print(\"=== DataFrame Info ===\")\n",
        "df.info()\n",
        "print(\"\\n\")  # Add a blank line for readability\n",
        "\n",
        "# Show first 5 rows\n",
        "print(\"=== First 5 Rows ===\")\n",
        "print(df.head())\n",
        "print(\"\\n\")\n",
        "\n",
        "# Show shape (rows, columns)\n",
        "print(\"=== Shape ===\")\n",
        "print(df.shape)\n",
        "print(\"\\n\")\n",
        "\n",
        "# Show basic statistics for numeric columns\n",
        "print(\"=== Descriptive Statistics ===\")\n",
        "print(df.describe())\n",
        "print(\"\\n\")\n",
        "\n",
        "# Show counts of target variable (Churn)\n",
        "print(\"=== Churn Value Counts ===\")\n",
        "print(df['Churn'].value_counts())\n"
      ],
      "metadata": {
        "colab": {
          "base_uri": "https://localhost:8080/"
        },
        "id": "0xcKbdGXs_FC",
        "outputId": "2215231f-84d4-44ca-bf1a-879117a33400"
      },
      "execution_count": 54,
      "outputs": [
        {
          "output_type": "stream",
          "name": "stdout",
          "text": [
            "=== DataFrame Info ===\n",
            "<class 'pandas.core.frame.DataFrame'>\n",
            "RangeIndex: 7043 entries, 0 to 7042\n",
            "Data columns (total 21 columns):\n",
            " #   Column            Non-Null Count  Dtype  \n",
            "---  ------            --------------  -----  \n",
            " 0   customerID        7043 non-null   object \n",
            " 1   gender            7043 non-null   object \n",
            " 2   SeniorCitizen     7043 non-null   int64  \n",
            " 3   Partner           7043 non-null   object \n",
            " 4   Dependents        7043 non-null   object \n",
            " 5   tenure            7043 non-null   int64  \n",
            " 6   PhoneService      7043 non-null   object \n",
            " 7   MultipleLines     7043 non-null   object \n",
            " 8   InternetService   7043 non-null   object \n",
            " 9   OnlineSecurity    7043 non-null   object \n",
            " 10  OnlineBackup      7043 non-null   object \n",
            " 11  DeviceProtection  7043 non-null   object \n",
            " 12  TechSupport       7043 non-null   object \n",
            " 13  StreamingTV       7043 non-null   object \n",
            " 14  StreamingMovies   7043 non-null   object \n",
            " 15  Contract          7043 non-null   object \n",
            " 16  PaperlessBilling  7043 non-null   object \n",
            " 17  PaymentMethod     7043 non-null   object \n",
            " 18  MonthlyCharges    7043 non-null   float64\n",
            " 19  TotalCharges      7043 non-null   object \n",
            " 20  Churn             7043 non-null   object \n",
            "dtypes: float64(1), int64(2), object(18)\n",
            "memory usage: 1.1+ MB\n",
            "\n",
            "\n",
            "=== First 5 Rows ===\n",
            "   customerID  gender  SeniorCitizen Partner Dependents  tenure PhoneService  \\\n",
            "0  7590-VHVEG  Female              0     Yes         No       1           No   \n",
            "1  5575-GNVDE    Male              0      No         No      34          Yes   \n",
            "2  3668-QPYBK    Male              0      No         No       2          Yes   \n",
            "3  7795-CFOCW    Male              0      No         No      45           No   \n",
            "4  9237-HQITU  Female              0      No         No       2          Yes   \n",
            "\n",
            "      MultipleLines InternetService OnlineSecurity  ... DeviceProtection  \\\n",
            "0  No phone service             DSL             No  ...               No   \n",
            "1                No             DSL            Yes  ...              Yes   \n",
            "2                No             DSL            Yes  ...               No   \n",
            "3  No phone service             DSL            Yes  ...              Yes   \n",
            "4                No     Fiber optic             No  ...               No   \n",
            "\n",
            "  TechSupport StreamingTV StreamingMovies        Contract PaperlessBilling  \\\n",
            "0          No          No              No  Month-to-month              Yes   \n",
            "1          No          No              No        One year               No   \n",
            "2          No          No              No  Month-to-month              Yes   \n",
            "3         Yes          No              No        One year               No   \n",
            "4          No          No              No  Month-to-month              Yes   \n",
            "\n",
            "               PaymentMethod MonthlyCharges  TotalCharges Churn  \n",
            "0           Electronic check          29.85         29.85    No  \n",
            "1               Mailed check          56.95        1889.5    No  \n",
            "2               Mailed check          53.85        108.15   Yes  \n",
            "3  Bank transfer (automatic)          42.30       1840.75    No  \n",
            "4           Electronic check          70.70        151.65   Yes  \n",
            "\n",
            "[5 rows x 21 columns]\n",
            "\n",
            "\n",
            "=== Shape ===\n",
            "(7043, 21)\n",
            "\n",
            "\n",
            "=== Descriptive Statistics ===\n",
            "       SeniorCitizen       tenure  MonthlyCharges\n",
            "count    7043.000000  7043.000000     7043.000000\n",
            "mean        0.162147    32.371149       64.761692\n",
            "std         0.368612    24.559481       30.090047\n",
            "min         0.000000     0.000000       18.250000\n",
            "25%         0.000000     9.000000       35.500000\n",
            "50%         0.000000    29.000000       70.350000\n",
            "75%         0.000000    55.000000       89.850000\n",
            "max         1.000000    72.000000      118.750000\n",
            "\n",
            "\n",
            "=== Churn Value Counts ===\n",
            "Churn\n",
            "No     5174\n",
            "Yes    1869\n",
            "Name: count, dtype: int64\n"
          ]
        }
      ]
    },
    {
      "cell_type": "code",
      "source": [
        "# Check unique values that might cause issues\n",
        "df['TotalCharges'].unique()[:20]  # Show first 20 unique values\n"
      ],
      "metadata": {
        "colab": {
          "base_uri": "https://localhost:8080/"
        },
        "id": "WvPLnmg-s_x_",
        "outputId": "3059e484-78c4-4688-d8d8-5e24c38aec83"
      },
      "execution_count": 55,
      "outputs": [
        {
          "output_type": "execute_result",
          "data": {
            "text/plain": [
              "array(['29.85', '1889.5', '108.15', '1840.75', '151.65', '820.5',\n",
              "       '1949.4', '301.9', '3046.05', '3487.95', '587.45', '326.8',\n",
              "       '5681.1', '5036.3', '2686.05', '7895.15', '1022.95', '7382.25',\n",
              "       '528.35', '1862.9'], dtype=object)"
            ]
          },
          "metadata": {},
          "execution_count": 55
        }
      ]
    },
    {
      "cell_type": "code",
      "source": [
        "# Convert 'TotalCharges' to numeric; coerce errors into NaN\n",
        "df['TotalCharges'] = pd.to_numeric(df['TotalCharges'], errors='coerce')\n",
        "\n",
        "# Check for NaNs created in the conversion\n",
        "df['TotalCharges'].isna().sum()\n"
      ],
      "metadata": {
        "colab": {
          "base_uri": "https://localhost:8080/"
        },
        "id": "Vzw9PSb72v4j",
        "outputId": "f18766c7-8353-469c-c330-fff2edf7918b"
      },
      "execution_count": 56,
      "outputs": [
        {
          "output_type": "execute_result",
          "data": {
            "text/plain": [
              "np.int64(11)"
            ]
          },
          "metadata": {},
          "execution_count": 56
        }
      ]
    },
    {
      "cell_type": "code",
      "source": [
        "# Drop rows with NaN (since < 1%)\n",
        "df = df.dropna(subset=['TotalCharges'])"
      ],
      "metadata": {
        "id": "Di-y5p4S-F5u"
      },
      "execution_count": 57,
      "outputs": []
    },
    {
      "cell_type": "code",
      "source": [
        "# Convert simple Yes/No or Male/Female to 0/1\n",
        "binary_cols = ['gender', 'Partner', 'Dependents', 'PhoneService', 'PaperlessBilling', 'Churn']\n",
        "for col in binary_cols:\n",
        "    df[col] = df[col].map({'Yes': 1, 'No': 0, 'Male': 1, 'Female': 0})\n",
        "\n",
        "# For other categorical columns with multiple values, first check unique values\n",
        "for col in ['MultipleLines', 'InternetService', 'OnlineSecurity',\n",
        "            'OnlineBackup', 'DeviceProtection', 'TechSupport',\n",
        "            'StreamingTV', 'StreamingMovies', 'Contract', 'PaymentMethod']:\n",
        "    print(f\"{col} unique values: {df[col].unique()}\")"
      ],
      "metadata": {
        "colab": {
          "base_uri": "https://localhost:8080/"
        },
        "id": "RwFUwwFbdGK9",
        "outputId": "1ab7e752-c399-4c39-e3f7-542f42678a50"
      },
      "execution_count": 58,
      "outputs": [
        {
          "output_type": "stream",
          "name": "stdout",
          "text": [
            "MultipleLines unique values: ['No phone service' 'No' 'Yes']\n",
            "InternetService unique values: ['DSL' 'Fiber optic' 'No']\n",
            "OnlineSecurity unique values: ['No' 'Yes' 'No internet service']\n",
            "OnlineBackup unique values: ['Yes' 'No' 'No internet service']\n",
            "DeviceProtection unique values: ['No' 'Yes' 'No internet service']\n",
            "TechSupport unique values: ['No' 'Yes' 'No internet service']\n",
            "StreamingTV unique values: ['No' 'Yes' 'No internet service']\n",
            "StreamingMovies unique values: ['No' 'Yes' 'No internet service']\n",
            "Contract unique values: ['Month-to-month' 'One year' 'Two year']\n",
            "PaymentMethod unique values: ['Electronic check' 'Mailed check' 'Bank transfer (automatic)'\n",
            " 'Credit card (automatic)']\n"
          ]
        }
      ]
    },
    {
      "cell_type": "code",
      "source": [
        "# Merge 'No phone service' and 'No internet service' into a single 'No'\n",
        "cols_to_merge = ['MultipleLines', 'OnlineSecurity', 'OnlineBackup',\n",
        "                 'DeviceProtection', 'TechSupport', 'StreamingTV', 'StreamingMovies']\n",
        "\n",
        "for col in cols_to_merge:\n",
        "    df[col] = df[col].replace({'No phone service':'No', 'No internet service':'No'})\n",
        "\n",
        "# Double-check unique values\n",
        "for col in cols_to_merge:\n",
        "    print(f\"{col} unique values after merge: {df[col].unique()}\")\n"
      ],
      "metadata": {
        "colab": {
          "base_uri": "https://localhost:8080/"
        },
        "id": "JLYkLUvJqkfQ",
        "outputId": "516204f0-4668-427b-f422-4e20e49f65f8"
      },
      "execution_count": 59,
      "outputs": [
        {
          "output_type": "stream",
          "name": "stdout",
          "text": [
            "MultipleLines unique values after merge: ['No' 'Yes']\n",
            "OnlineSecurity unique values after merge: ['No' 'Yes']\n",
            "OnlineBackup unique values after merge: ['Yes' 'No']\n",
            "DeviceProtection unique values after merge: ['No' 'Yes']\n",
            "TechSupport unique values after merge: ['No' 'Yes']\n",
            "StreamingTV unique values after merge: ['No' 'Yes']\n",
            "StreamingMovies unique values after merge: ['No' 'Yes']\n"
          ]
        }
      ]
    },
    {
      "cell_type": "code",
      "source": [
        "# Now apply one-hot encoding to the multi-category features\n",
        "df = pd.get_dummies(df, columns=['InternetService', 'Contract', 'PaymentMethod'], drop_first=True)"
      ],
      "metadata": {
        "id": "aG2IyJ4Vrq7F"
      },
      "execution_count": 60,
      "outputs": []
    },
    {
      "cell_type": "code",
      "source": [
        "binary_service_cols = ['MultipleLines', 'OnlineSecurity', 'OnlineBackup',\n",
        "                       'DeviceProtection', 'TechSupport', 'StreamingTV', 'StreamingMovies']\n",
        "\n",
        "for col in binary_service_cols:\n",
        "    df[col] = df[col].map({'Yes': 1, 'No': 0})\n",
        "\n",
        "print(df.info())\n",
        "print(df.head())"
      ],
      "metadata": {
        "colab": {
          "base_uri": "https://localhost:8080/"
        },
        "id": "_Ref0MZT4IAh",
        "outputId": "8d10e772-38cc-4132-ec44-c0edb1ee9da0"
      },
      "execution_count": 37,
      "outputs": [
        {
          "output_type": "stream",
          "name": "stdout",
          "text": [
            "<class 'pandas.core.frame.DataFrame'>\n",
            "Index: 7032 entries, 0 to 7042\n",
            "Data columns (total 25 columns):\n",
            " #   Column                                 Non-Null Count  Dtype  \n",
            "---  ------                                 --------------  -----  \n",
            " 0   customerID                             7032 non-null   object \n",
            " 1   gender                                 7032 non-null   int64  \n",
            " 2   SeniorCitizen                          7032 non-null   int64  \n",
            " 3   Partner                                7032 non-null   int64  \n",
            " 4   Dependents                             7032 non-null   int64  \n",
            " 5   tenure                                 7032 non-null   int64  \n",
            " 6   PhoneService                           7032 non-null   int64  \n",
            " 7   MultipleLines                          7032 non-null   int64  \n",
            " 8   OnlineSecurity                         7032 non-null   int64  \n",
            " 9   OnlineBackup                           7032 non-null   int64  \n",
            " 10  DeviceProtection                       7032 non-null   int64  \n",
            " 11  TechSupport                            7032 non-null   int64  \n",
            " 12  StreamingTV                            7032 non-null   int64  \n",
            " 13  StreamingMovies                        7032 non-null   int64  \n",
            " 14  PaperlessBilling                       7032 non-null   int64  \n",
            " 15  MonthlyCharges                         7032 non-null   float64\n",
            " 16  TotalCharges                           7032 non-null   float64\n",
            " 17  Churn                                  7032 non-null   int64  \n",
            " 18  InternetService_Fiber optic            7032 non-null   bool   \n",
            " 19  InternetService_No                     7032 non-null   bool   \n",
            " 20  Contract_One year                      7032 non-null   bool   \n",
            " 21  Contract_Two year                      7032 non-null   bool   \n",
            " 22  PaymentMethod_Credit card (automatic)  7032 non-null   bool   \n",
            " 23  PaymentMethod_Electronic check         7032 non-null   bool   \n",
            " 24  PaymentMethod_Mailed check             7032 non-null   bool   \n",
            "dtypes: bool(7), float64(2), int64(15), object(1)\n",
            "memory usage: 1.1+ MB\n",
            "None\n",
            "   customerID  gender  SeniorCitizen  Partner  Dependents  tenure  \\\n",
            "0  7590-VHVEG       0              0        1           0       1   \n",
            "1  5575-GNVDE       1              0        0           0      34   \n",
            "2  3668-QPYBK       1              0        0           0       2   \n",
            "3  7795-CFOCW       1              0        0           0      45   \n",
            "4  9237-HQITU       0              0        0           0       2   \n",
            "\n",
            "   PhoneService  MultipleLines  OnlineSecurity  OnlineBackup  ...  \\\n",
            "0             0              0               0             1  ...   \n",
            "1             1              0               1             0  ...   \n",
            "2             1              0               1             1  ...   \n",
            "3             0              0               1             0  ...   \n",
            "4             1              0               0             0  ...   \n",
            "\n",
            "   MonthlyCharges  TotalCharges  Churn  InternetService_Fiber optic  \\\n",
            "0           29.85         29.85      0                        False   \n",
            "1           56.95       1889.50      0                        False   \n",
            "2           53.85        108.15      1                        False   \n",
            "3           42.30       1840.75      0                        False   \n",
            "4           70.70        151.65      1                         True   \n",
            "\n",
            "   InternetService_No  Contract_One year  Contract_Two year  \\\n",
            "0               False              False              False   \n",
            "1               False               True              False   \n",
            "2               False              False              False   \n",
            "3               False               True              False   \n",
            "4               False              False              False   \n",
            "\n",
            "   PaymentMethod_Credit card (automatic)  PaymentMethod_Electronic check  \\\n",
            "0                                  False                            True   \n",
            "1                                  False                           False   \n",
            "2                                  False                           False   \n",
            "3                                  False                           False   \n",
            "4                                  False                            True   \n",
            "\n",
            "   PaymentMethod_Mailed check  \n",
            "0                       False  \n",
            "1                        True  \n",
            "2                        True  \n",
            "3                       False  \n",
            "4                       False  \n",
            "\n",
            "[5 rows x 25 columns]\n"
          ]
        }
      ]
    },
    {
      "cell_type": "code",
      "source": [
        "# Keep a copy of IDs for later (to match predictions to customers)\n",
        "customer_ids = df['customerID']\n",
        "\n",
        "# Drop the ID column for training\n",
        "df = df.drop('customerID', axis=1)\n",
        "\n",
        "# Convert boolean columns to int to prevent edge-case issues with model training\n",
        "df = df.astype({col: 'int' for col in df.select_dtypes('bool').columns})\n"
      ],
      "metadata": {
        "id": "0nIS69vVNyjQ"
      },
      "execution_count": 61,
      "outputs": []
    }
  ]
}